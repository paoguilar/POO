{
  "nbformat": 4,
  "nbformat_minor": 0,
  "metadata": {
    "colab": {
      "provenance": [],
      "authorship_tag": "ABX9TyNE3tLGpGVSd9fF6msgcsFf",
      "include_colab_link": true
    },
    "kernelspec": {
      "name": "python3",
      "display_name": "Python 3"
    },
    "language_info": {
      "name": "python"
    }
  },
  "cells": [
    {
      "cell_type": "markdown",
      "metadata": {
        "id": "view-in-github",
        "colab_type": "text"
      },
      "source": [
        "<a href=\"https://colab.research.google.com/github/paoguilar/POO/blob/main/Untitled14.ipynb\" target=\"_parent\"><img src=\"https://colab.research.google.com/assets/colab-badge.svg\" alt=\"Open In Colab\"/></a>"
      ]
    },
    {
      "cell_type": "code",
      "execution_count": null,
      "metadata": {
        "id": "eD-N2n2wcKan"
      },
      "outputs": [],
      "source": [
        "class Validador:\n",
        "    def validar_dato(self, dato):\n",
        "        return dato.isalpha()\n",
        "\n",
        "class Formulario:\n",
        "    def __init__(self):\n",
        "        self.validador = Validador()\n",
        "\n",
        "    def validar_nombre(self, nombre):\n",
        "        return self.validador.validar_dato(nombre)  # Delegación\n",
        "formulario = Formulario()\n",
        "print(formulario.validar_nombre(\"Juan\"))  # True\n",
        "print(formulario.validar_nombre(\"Juan123\"))  # False"
      ]
    }
  ]
}