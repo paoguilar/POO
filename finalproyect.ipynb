{
  "nbformat": 4,
  "nbformat_minor": 0,
  "metadata": {
    "colab": {
      "provenance": [],
      "authorship_tag": "ABX9TyPm/BYT13cS6YBakdUV91qx",
      "include_colab_link": true
    },
    "kernelspec": {
      "name": "python3",
      "display_name": "Python 3"
    },
    "language_info": {
      "name": "python"
    }
  },
  "cells": [
    {
      "cell_type": "markdown",
      "metadata": {
        "id": "view-in-github",
        "colab_type": "text"
      },
      "source": [
        "<a href=\"https://colab.research.google.com/github/paoguilar/POO/blob/main/finalproyect.ipynb\" target=\"_parent\"><img src=\"https://colab.research.google.com/assets/colab-badge.svg\" alt=\"Open In Colab\"/></a>"
      ]
    },
    {
      "cell_type": "code",
      "source": [
        "!pip install -q streamlit"
      ],
      "metadata": {
        "colab": {
          "base_uri": "https://localhost:8080/"
        },
        "id": "4VRrdi2YAcGw",
        "outputId": "eff50fd5-a47d-4b94-a533-2e6b49ad3f56"
      },
      "execution_count": 3,
      "outputs": [
        {
          "output_type": "stream",
          "name": "stdout",
          "text": [
            "\u001b[2K     \u001b[90m━━━━━━━━━━━━━━━━━━━━━━━━━━━━━━━━━━━━━━━━\u001b[0m \u001b[32m44.3/44.3 kB\u001b[0m \u001b[31m2.1 MB/s\u001b[0m eta \u001b[36m0:00:00\u001b[0m\n",
            "\u001b[2K   \u001b[90m━━━━━━━━━━━━━━━━━━━━━━━━━━━━━━━━━━━━━━━━\u001b[0m \u001b[32m9.9/9.9 MB\u001b[0m \u001b[31m98.1 MB/s\u001b[0m eta \u001b[36m0:00:00\u001b[0m\n",
            "\u001b[2K   \u001b[90m━━━━━━━━━━━━━━━━━━━━━━━━━━━━━━━━━━━━━━━━\u001b[0m \u001b[32m6.9/6.9 MB\u001b[0m \u001b[31m102.0 MB/s\u001b[0m eta \u001b[36m0:00:00\u001b[0m\n",
            "\u001b[2K   \u001b[90m━━━━━━━━━━━━━━━━━━━━━━━━━━━━━━━━━━━━━━━━\u001b[0m \u001b[32m79.1/79.1 kB\u001b[0m \u001b[31m5.3 MB/s\u001b[0m eta \u001b[36m0:00:00\u001b[0m\n",
            "\u001b[?25h"
          ]
        }
      ]
    },
    {
      "cell_type": "code",
      "source": [
        "%%writefile app.py\n",
        "import streamlit as st\n",
        "import pandas as pd\n",
        "from datetime import datetime, timedelta\n",
        "import smtplib\n",
        "import random\n",
        "import os\n",
        "\n",
        "# ----------📦 Configuración inicial del CSV----------\n",
        "DATA_FILE = \"cumples.csv\"\n",
        "MSG_FILE = \"mensajes.csv\"\n",
        "\n",
        "def cargar_datos():\n",
        "    if os.path.exists(DATA_FILE):\n",
        "        return pd.read_csv(DATA_FILE)\n",
        "    else:\n",
        "        return pd.DataFrame(columns=[\"Nombre\", \"Email\", \"Fecha\"])\n",
        "\n",
        "def guardar_datos(df):\n",
        "    df.to_csv(DATA_FILE, index=False)\n",
        "\n",
        "def cargar_mensajes():\n",
        "    if os.path.exists(MSG_FILE):\n",
        "        return pd.read_csv(MSG_FILE)\n",
        "    else:\n",
        "        return pd.DataFrame(columns=[\"Mensaje\"])\n",
        "\n",
        "def guardar_mensajes(df):\n",
        "    df.to_csv(MSG_FILE, index=False)\n",
        "\n",
        "# ----------📤 Enviar correo----------\n",
        "def enviar_correo(destinatario, asunto, mensaje, remitente, contraseña):\n",
        "    try:\n",
        "        with smtplib.SMTP(\"smtp.gmail.com\", 587) as servidor:\n",
        "            servidor.starttls()\n",
        "            servidor.login(remitente, contraseña)\n",
        "            servidor.sendmail(remitente, destinatario, f\"Subject: {asunto}\\n\\n{mensaje}\")\n",
        "    except Exception as e:\n",
        "        st.error(f\"❌ Error al enviar el correo: {e}\")\n",
        "\n",
        "# ----------📆 Funciones de cumpleaños----------\n",
        "def dias_para_cumple(fecha_str):\n",
        "    hoy = datetime.today()\n",
        "    cumple = datetime.strptime(fecha_str, \"%Y-%m-%d\")\n",
        "    cumple = cumple.replace(year=hoy.year)\n",
        "    if cumple < hoy:\n",
        "        cumple = cumple.replace(year=hoy.year + 1)\n",
        "    return (cumple - hoy).days\n",
        "\n",
        "def obtener_cumples_proximos(df):\n",
        "    hoy = datetime.today()\n",
        "    df[\"Dias\"] = df[\"Fecha\"].apply(lambda f: dias_para_cumple(f))\n",
        "    return df.sort_values(by=\"Dias\")\n",
        "\n",
        "# ----------🎯 Interfaz Streamlit----------\n",
        "st.set_page_config(page_title=\"Gestor de Cumpleaños 🎉\", layout=\"centered\")\n",
        "st.title(\"🎈 Gestor de Cumpleaños\")\n",
        "\n",
        "df = cargar_datos()\n",
        "df_msg = cargar_mensajes()\n",
        "\n",
        "st.sidebar.header(\"📬 Configurar correo\")\n",
        "remitente = st.sidebar.text_input(\"Correo remitente (Gmail)\", placeholder=\"tuemail@gmail.com\")\n",
        "contraseña = st.sidebar.text_input(\"Contraseña de aplicación\", type=\"password\")\n",
        "\n",
        "# ----------🎂 Agregar cumpleaños----------\n",
        "st.subheader(\"➕ Registrar nuevo cumpleaños\")\n",
        "with st.form(\"form_nuevo\"):\n",
        "    nombre = st.text_input(\"Nombre\")\n",
        "    email = st.text_input(\"Correo electrónico\")\n",
        "    fecha = st.date_input(\"Fecha de cumpleaños\", min_value=datetime(1900, 1, 1))\n",
        "    enviar_auto = st.checkbox(\"Enviar felicitación automáticamente\")\n",
        "    enviado = False\n",
        "    enviado_hoy = False\n",
        "    submit = st.form_submit_button(\"Guardar\")\n",
        "\n",
        "    if submit:\n",
        "        nueva_fila = pd.DataFrame([{\"Nombre\": nombre, \"Email\": email, \"Fecha\": fecha.strftime(\"%Y-%m-%d\")}])\n",
        "        df = pd.concat([df, nueva_fila], ignore_index=True)\n",
        "        guardar_datos(df)\n",
        "        st.success(f\"✅ Cumpleaños de {nombre} guardado correctamente\")\n",
        "\n",
        "# ----------📑 Ver cumpleaños próximos----------\n",
        "st.subheader(\"📅 Cumpleaños próximos\")\n",
        "if not df.empty:\n",
        "    df_mostrar = obtener_cumples_proximos(df)[[\"Nombre\", \"Fecha\", \"Email\", \"Dias\"]]\n",
        "    for _, row in df_mostrar.iterrows():\n",
        "        dias = row[\"Dias\"]\n",
        "        mensaje = f\"🎉 {row['Nombre']} - en {dias} día(s)\" if dias > 0 else f\"🎁 ¡Hoy es el cumpleaños de {row['Nombre']}!\"\n",
        "        st.write(mensaje)\n",
        "\n",
        "        if dias == 0 and remitente and contraseña:\n",
        "            if not df_msg.empty:\n",
        "                mensaje_aleatorio = df_msg.sample(1)[\"Mensaje\"].values[0]\n",
        "            else:\n",
        "                mensaje_aleatorio = f\"¡Feliz cumpleaños, {row['Nombre']}! 🎂\"\n",
        "\n",
        "            enviar_correo(row[\"Email\"], \"🎉 ¡Feliz Cumpleaños!\", mensaje_aleatorio, remitente, contraseña)\n",
        "            st.success(f\"📧 Correo enviado a {row['Nombre']}\")\n",
        "else:\n",
        "    st.info(\"📭 No hay cumpleaños registrados.\")\n",
        "\n",
        "# ----------📝 Mensajes personalizados----------\n",
        "st.subheader(\"💌 Configurar mensajes de cumpleaños\")\n",
        "nuevo_mensaje = st.text_area(\"Agregar nuevo mensaje\", height=100)\n",
        "if st.button(\"Guardar mensaje\"):\n",
        "    if nuevo_mensaje.strip():\n",
        "        nueva_fila = pd.DataFrame([{\"Mensaje\": nuevo_mensaje.strip()}])\n",
        "        df_msg = pd.concat([df_msg, nueva_fila], ignore_index=True)\n",
        "        guardar_mensajes(df_msg)\n",
        "        st.success(\"✅ Mensaje guardado\")\n",
        "\n",
        "if not df_msg.empty:\n",
        "    st.write(\"📚 Mensajes guardados:\")\n",
        "    for i, row in df_msg.iterrows():\n",
        "        st.write(f\"{i+1}. {row['Mensaje']}\")\n"
      ],
      "metadata": {
        "colab": {
          "base_uri": "https://localhost:8080/"
        },
        "id": "geke5g_s_e4x",
        "outputId": "5e963ddd-6a2d-4536-a7ae-a9f1c4c11bd4"
      },
      "execution_count": 7,
      "outputs": [
        {
          "output_type": "stream",
          "name": "stdout",
          "text": [
            "Overwriting app.py\n"
          ]
        }
      ]
    },
    {
      "cell_type": "code",
      "source": [
        "!npm install -g localtunnel"
      ],
      "metadata": {
        "colab": {
          "base_uri": "https://localhost:8080/"
        },
        "id": "MI3Tx-kQ_-Cm",
        "outputId": "63cf1b82-a6cf-41a6-c1cc-c98476f30a03"
      },
      "execution_count": 2,
      "outputs": [
        {
          "output_type": "stream",
          "name": "stdout",
          "text": [
            "\u001b[1G\u001b[0K⠙\u001b[1G\u001b[0K⠹\u001b[1G\u001b[0K⠸\u001b[1G\u001b[0K⠼\u001b[1G\u001b[0K⠴\u001b[1G\u001b[0K⠦\u001b[1G\u001b[0K⠧\u001b[1G\u001b[0K⠇\u001b[1G\u001b[0K⠏\u001b[1G\u001b[0K⠋\u001b[1G\u001b[0K⠙\u001b[1G\u001b[0K⠹\u001b[1G\u001b[0K⠸\u001b[1G\u001b[0K⠼\u001b[1G\u001b[0K⠴\u001b[1G\u001b[0K⠦\u001b[1G\u001b[0K⠧\u001b[1G\u001b[0K⠇\u001b[1G\u001b[0K⠏\u001b[1G\u001b[0K⠋\u001b[1G\u001b[0K\n",
            "added 22 packages in 3s\n",
            "\u001b[1G\u001b[0K⠋\u001b[1G\u001b[0K\n",
            "\u001b[1G\u001b[0K⠋\u001b[1G\u001b[0K3 packages are looking for funding\n",
            "\u001b[1G\u001b[0K⠋\u001b[1G\u001b[0K  run `npm fund` for details\n",
            "\u001b[1G\u001b[0K⠋\u001b[1G\u001b[0K"
          ]
        }
      ]
    },
    {
      "cell_type": "code",
      "source": [
        "!streamlit run app.py &>/content/logs.txt & npx localtunnel --port 8501 & curl ipv4.icanhazip.com"
      ],
      "metadata": {
        "colab": {
          "base_uri": "https://localhost:8080/"
        },
        "id": "yhzIlYbRAYB4",
        "outputId": "4d104af7-a63d-4c0d-c000-35463ef2c80e"
      },
      "execution_count": null,
      "outputs": [
        {
          "output_type": "stream",
          "name": "stdout",
          "text": [
            "35.245.46.49\n",
            "\u001b[1G\u001b[0K⠙\u001b[1G\u001b[0K⠹\u001b[1G\u001b[0K⠸\u001b[1G\u001b[0K⠼\u001b[1G\u001b[0K⠴\u001b[1G\u001b[0K⠦\u001b[1G\u001b[0K⠧\u001b[1G\u001b[0Kyour url is: https://proud-animals-crash.loca.lt\n"
          ]
        }
      ]
    }
  ]
}