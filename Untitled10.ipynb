{
  "nbformat": 4,
  "nbformat_minor": 0,
  "metadata": {
    "colab": {
      "provenance": [],
      "authorship_tag": "ABX9TyOa6jewmWYl35HNOR3HLKpG",
      "include_colab_link": true
    },
    "kernelspec": {
      "name": "python3",
      "display_name": "Python 3"
    },
    "language_info": {
      "name": "python"
    }
  },
  "cells": [
    {
      "cell_type": "markdown",
      "metadata": {
        "id": "view-in-github",
        "colab_type": "text"
      },
      "source": [
        "<a href=\"https://colab.research.google.com/github/paoguilar/POO/blob/main/Untitled10.ipynb\" target=\"_parent\"><img src=\"https://colab.research.google.com/assets/colab-badge.svg\" alt=\"Open In Colab\"/></a>"
      ]
    },
    {
      "cell_type": "code",
      "execution_count": null,
      "metadata": {
        "colab": {
          "base_uri": "https://localhost:8080/"
        },
        "id": "8VmkNeD_pij4",
        "outputId": "dd39182b-d9d9-478b-81cd-de31546d99b5"
      },
      "outputs": [
        {
          "output_type": "stream",
          "name": "stdout",
          "text": [
            "Destinos disponibles: París, Madrid, Roma, Berlín, Ámsterdam\n",
            "Vuelo EF111 creado hacia París el 2025-04-01 a las 05:00 AM.\n",
            "Reserva exitosa para Juan Pérez en el vuelo EF111.\n",
            "Reserva R1556: Juan Pérez en vuelo EF111.\n"
          ]
        }
      ],
      "source": [
        "import datetime\n",
        "import random\n",
        "\n",
        "class Pasajero:\n",
        "    def __init__(self, nombre, pasaporte, contacto):\n",
        "        self.nombre = nombre\n",
        "        self.pasaporte = pasaporte\n",
        "        self.contacto = contacto\n",
        "\n",
        "    def mostrar_info(self):\n",
        "        return f\"Pasajero: {self.nombre}, Pasaporte: {self.pasaporte}, Contacto: {self.contacto}\"\n",
        "\n",
        "class Vuelo:\n",
        "    def __init__(self, destino, fecha_hora, numero_vuelo, asientos_disponibles):\n",
        "        self.destino = destino\n",
        "        self.fecha_hora = fecha_hora\n",
        "        self.numero_vuelo = numero_vuelo\n",
        "        self.asientos_disponibles = asientos_disponibles\n",
        "        self.pasajeros = []\n",
        "\n",
        "    def reservar_asiento(self, pasajero):\n",
        "        if self.asientos_disponibles > 0:\n",
        "            self.pasajeros.append(pasajero)\n",
        "            self.asientos_disponibles -= 1\n",
        "            return f\"Reserva exitosa para {pasajero.nombre} en el vuelo {self.numero_vuelo}.\"\n",
        "        return \"No hay asientos disponibles.\"\n",
        "\n",
        "    def cancelar_reserva(self, pasaporte):\n",
        "        for pasajero in self.pasajeros:\n",
        "            if pasajero.pasaporte == pasaporte:\n",
        "                self.pasajeros.remove(pasajero)\n",
        "                self.asientos_disponibles += 1\n",
        "                return f\"Reserva cancelada para {pasajero.nombre}.\"\n",
        "        return \"No se encontró la reserva.\"\n",
        "\n",
        "    def mostrar_info(self):\n",
        "        return f\"Vuelo {self.numero_vuelo} a {self.destino} - {self.fecha_hora} - Asientos disponibles: {self.asientos_disponibles}\"\n",
        "\n",
        "class Reserva:\n",
        "    def __init__(self, pasajero, vuelo):\n",
        "        self.pasajero = pasajero\n",
        "        self.vuelo = vuelo\n",
        "        self.codigo_reserva = f\"R{random.randint(1000, 9999)}\"\n",
        "\n",
        "    def mostrar_info(self):\n",
        "        return f\"Reserva {self.codigo_reserva}: {self.pasajero.nombre} en vuelo {self.vuelo.numero_vuelo}.\"\n",
        "\n",
        "    def cancelar_reserva(self):\n",
        "        return self.vuelo.cancelar_reserva(self.pasajero.pasaporte)\n",
        "\n",
        "class EuroFly:\n",
        "    def __init__(self):\n",
        "        self.nombre = \"EuroFly\"\n",
        "        self.destinos = [\"París\", \"Madrid\", \"Roma\", \"Berlín\", \"Ámsterdam\"]\n",
        "        self.vuelos = []\n",
        "        self.horarios = [\"05:00 AM\", \"08:00 PM\"]\n",
        "        self.dias_salida = [\"Lunes\", \"Miércoles\", \"Viernes\"]\n",
        "\n",
        "    def agregar_destino(self, destino):\n",
        "        if destino not in self.destinos:\n",
        "            self.destinos.append(destino)\n",
        "            return f\"Destino {destino} agregado.\"\n",
        "        return \"El destino ya existe.\"\n",
        "\n",
        "    def mostrar_destinos(self):\n",
        "        return f\"Destinos disponibles: {', '.join(self.destinos)}\"\n",
        "\n",
        "    def crear_vuelo(self, destino, fecha, hora):\n",
        "        if destino in self.destinos and hora in self.horarios:\n",
        "            num_vuelo = f\"EF{random.randint(100, 999)}\"\n",
        "            nuevo_vuelo = Vuelo(destino, f\"{fecha} {hora}\", num_vuelo, 100)\n",
        "            self.vuelos.append(nuevo_vuelo)\n",
        "            return f\"Vuelo {num_vuelo} creado hacia {destino} el {fecha} a las {hora}.\"\n",
        "        return \"Destino u horario inválido.\"\n",
        "\n",
        "    def buscar_vuelos(self, destino):\n",
        "        disponibles = [vuelo.mostrar_info() for vuelo in self.vuelos if vuelo.destino == destino]\n",
        "        return disponibles if disponibles else \"No hay vuelos disponibles.\"\n",
        "\n",
        "    def cancelar_vuelo(self, num_vuelo):\n",
        "        for vuelo in self.vuelos:\n",
        "            if vuelo.numero_vuelo == num_vuelo:\n",
        "                self.vuelos.remove(vuelo)\n",
        "                return f\"Vuelo {num_vuelo} cancelado.\"\n",
        "        return \"Vuelo no encontrado.\"\n",
        "\n",
        "# Simulación\n",
        "aerolinea = EuroFly()\n",
        "print(aerolinea.mostrar_destinos())\n",
        "print(aerolinea.crear_vuelo(\"París\", \"2025-04-01\", \"05:00 AM\"))\n",
        "vuelo = aerolinea.vuelos[0]\n",
        "pasajero = Pasajero(\"Juan Pérez\", \"A12345678\", \"juan@email.com\")\n",
        "print(vuelo.reservar_asiento(pasajero))\n",
        "reserva = Reserva(pasajero, vuelo)\n",
        "print(reserva.mostrar_info())\n"
      ]
    }
  ]
}