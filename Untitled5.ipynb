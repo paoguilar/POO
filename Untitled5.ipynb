{
  "nbformat": 4,
  "nbformat_minor": 0,
  "metadata": {
    "colab": {
      "provenance": [],
      "authorship_tag": "ABX9TyNHbgBCy0WTv77SA9P6o7ha",
      "include_colab_link": true
    },
    "kernelspec": {
      "name": "python3",
      "display_name": "Python 3"
    },
    "language_info": {
      "name": "python"
    }
  },
  "cells": [
    {
      "cell_type": "markdown",
      "metadata": {
        "id": "view-in-github",
        "colab_type": "text"
      },
      "source": [
        "<a href=\"https://colab.research.google.com/github/paoguilar/POO/blob/main/Untitled5.ipynb\" target=\"_parent\"><img src=\"https://colab.research.google.com/assets/colab-badge.svg\" alt=\"Open In Colab\"/></a>"
      ]
    },
    {
      "cell_type": "code",
      "source": [
        "class EmpleadoUniversitario:\n",
        "    def __init__(self, nombre, departamento, salario):\n",
        "        self.nombre = nombre\n",
        "        self.departamento = departamento\n",
        "        self.__salario = salario  # Atributo privado\n",
        "\n",
        "    # Getters\n",
        "    def get_nombre(self):\n",
        "        return self.nombre\n",
        "\n",
        "    def get_departamento(self):\n",
        "        return self.departamento\n",
        "\n",
        "    def get_salario(self):\n",
        "        return self.__salario\n",
        "\n",
        "    # Setters\n",
        "    def set_nombre(self, nuevo_nombre):\n",
        "        self.nombre = nuevo_nombre\n",
        "\n",
        "    def set_departamento(self, nuevo_departamento):\n",
        "        self.departamento = nuevo_departamento\n",
        "\n",
        "    def set_salario(self, nuevo_salario):\n",
        "        if nuevo_salario < 0:\n",
        "            print(\"Error: El salario no puede ser negativo.\")\n",
        "        else:\n",
        "            self.__salario = nuevo_salario\n",
        "\n",
        "# Crear una instancia de EmpleadoUniversitario\n",
        "empleado = EmpleadoUniversitario(\"Paola Aguilar\", \"Informática\", 50000)\n",
        "\n",
        "# Imprimir información inicial\n",
        "print(\"Nombre:\", empleado.get_nombre())\n",
        "print(\"Departamento:\", empleado.get_departamento())\n",
        "print(\"Salario:\", empleado.get_salario())\n",
        "\n",
        "# Modificar atributos\n",
        "empleado.set_nombre(\"Carmen Magaña\")\n",
        "empleado.set_departamento(\"Matemáticas\")\n",
        "empleado.set_salario(55000)\n",
        "\n",
        "# Imprimir información actualizada\n",
        "print(\"\\nInformación actualizada:\")\n",
        "print(\"Nombre:\", empleado.get_nombre())\n",
        "print(\"Departamento:\", empleado.get_departamento())\n",
        "print(\"Salario:\", empleado.get_salario())\n",
        "\n",
        "# Intentar asignar un salario negativo\n",
        "empleado.set_salario(-10000)\n"
      ],
      "metadata": {
        "colab": {
          "base_uri": "https://localhost:8080/"
        },
        "id": "otksctGAxeHm",
        "outputId": "6cb0cd85-b402-4b1b-bec7-ff9f6b226e0f"
      },
      "execution_count": null,
      "outputs": [
        {
          "output_type": "stream",
          "name": "stdout",
          "text": [
            "Nombre: Paola Aguilar\n",
            "Departamento: Informática\n",
            "Salario: 50000\n",
            "\n",
            "Información actualizada:\n",
            "Nombre: Carmen Magaña\n",
            "Departamento: Matemáticas\n",
            "Salario: 55000\n",
            "Error: El salario no puede ser negativo.\n"
          ]
        }
      ]
    }
  ]
}