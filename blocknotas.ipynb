{
  "nbformat": 4,
  "nbformat_minor": 0,
  "metadata": {
    "colab": {
      "provenance": [],
      "authorship_tag": "ABX9TyPLVVccSxWqTfWLEdWmH3Mp",
      "include_colab_link": true
    },
    "kernelspec": {
      "name": "python3",
      "display_name": "Python 3"
    },
    "language_info": {
      "name": "python"
    }
  },
  "cells": [
    {
      "cell_type": "markdown",
      "metadata": {
        "id": "view-in-github",
        "colab_type": "text"
      },
      "source": [
        "<a href=\"https://colab.research.google.com/github/paoguilar/POO/blob/main/blocknotas.ipynb\" target=\"_parent\"><img src=\"https://colab.research.google.com/assets/colab-badge.svg\" alt=\"Open In Colab\"/></a>"
      ]
    },
    {
      "cell_type": "code",
      "execution_count": null,
      "metadata": {
        "colab": {
          "base_uri": "https://localhost:8080/"
        },
        "id": "fvs7opAItJ7p",
        "outputId": "37f9a579-5b8b-43db-c64e-83376675e345"
      },
      "outputs": [
        {
          "output_type": "stream",
          "name": "stdout",
          "text": [
            "\u001b[2K     \u001b[90m━━━━━━━━━━━━━━━━━━━━━━━━━━━━━━━━━━━━━━━━\u001b[0m \u001b[32m44.3/44.3 kB\u001b[0m \u001b[31m2.0 MB/s\u001b[0m eta \u001b[36m0:00:00\u001b[0m\n",
            "\u001b[2K   \u001b[90m━━━━━━━━━━━━━━━━━━━━━━━━━━━━━━━━━━━━━━━━\u001b[0m \u001b[32m9.8/9.8 MB\u001b[0m \u001b[31m40.6 MB/s\u001b[0m eta \u001b[36m0:00:00\u001b[0m\n",
            "\u001b[2K   \u001b[90m━━━━━━━━━━━━━━━━━━━━━━━━━━━━━━━━━━━━━━━━\u001b[0m \u001b[32m6.9/6.9 MB\u001b[0m \u001b[31m54.0 MB/s\u001b[0m eta \u001b[36m0:00:00\u001b[0m\n",
            "\u001b[2K   \u001b[90m━━━━━━━━━━━━━━━━━━━━━━━━━━━━━━━━━━━━━━━━\u001b[0m \u001b[32m79.1/79.1 kB\u001b[0m \u001b[31m4.9 MB/s\u001b[0m eta \u001b[36m0:00:00\u001b[0m\n",
            "\u001b[?25h"
          ]
        }
      ],
      "source": [
        "!pip install -q streamlit"
      ]
    },
    {
      "cell_type": "code",
      "source": [
        "%%writefile app.py\n",
        "import streamlit as st\n",
        "\n",
        "class Nota:\n",
        "    def __init__(self, titulo, contenido):\n",
        "        self.titulo = titulo\n",
        "        self.contenido = contenido\n",
        "\n",
        "    def mostrar(self):\n",
        "        return f\"{self.titulo}: {self.contenido}\"\n",
        "\n",
        "    def modificar_contenido(self, nuevo_contenido):\n",
        "        self.contenido = nuevo_contenido\n",
        "\n",
        "class NotaText(Nota):\n",
        "    def formatear_texto(self):\n",
        "        return self.contenido.upper()\n",
        "\n",
        "class NotaLista(Nota):\n",
        "    def __init__(self, titulo, contenido):\n",
        "        super().__init__(titulo, contenido if isinstance(contenido, list) else contenido.split(\", \"))\n",
        "\n",
        "    def mostrar(self):\n",
        "        return f\"{self.titulo}:\\n- \" + \"\\n-\".join(self.contenido)\n",
        "\n",
        "class NotaImagen(Nota):\n",
        "    def __init__(self, titulo, contenido):\n",
        "        super().__init__(titulo, contenido)\n",
        "\n",
        "class BlocdeNotas:\n",
        "    def __init__(self):\n",
        "        self.notas = []\n",
        "\n",
        "    def agregar_nota(self, nota):\n",
        "        self.notas.append(nota)\n",
        "\n",
        "    def mostrar_notas(self):\n",
        "        return [nota.mostrar() for nota in self.notas]\n",
        "\n",
        "    def buscar_nota(self, titulo):\n",
        "        for nota in self.notas:\n",
        "            if nota.titulo == titulo:\n",
        "                return nota.mostrar()\n",
        "        return \"Nota no encontrada\"\n",
        "\n",
        "    def eliminar_nota(self, titulo):\n",
        "        self.notas = [nota for nota in self.notas if nota.titulo != titulo]\n",
        "\n",
        "bloc = BlocdeNotas()\n",
        "\n",
        "st.title(\"Bloc de Notas Interactivo con usuario\")\n",
        "titulo = st.text_input(\"Titulo de la nota\")\n",
        "contenido = st.text_area(\"Contenido de la nota\")\n",
        "tipo_nota = st.selectbox(\"Tipo de nota\", [\"Texto\", \"Lista\", \"Imagen\"])\n",
        "\n",
        "if st.button(\"Crear Nota\"):\n",
        "    if titulo:\n",
        "        if tipo_nota == \"Texto\":\n",
        "            nota = NotaText(titulo, contenido)\n",
        "        elif tipo_nota == \"Lista\":\n",
        "            nota = NotaLista(titulo, contenido)\n",
        "        else:\n",
        "            nota = NotaImagen(titulo, contenido)\n",
        "        bloc.agregar_nota(nota)\n",
        "        st.success(\"Nota creada correctamente\")\n",
        "    else:\n",
        "        st.error(\"El titulo es obligatorio\")\n",
        "\n",
        "if st.button(\"Mostrar Notas\"):\n",
        "    notas = bloc.mostrar_notas()\n",
        "    if notas:\n",
        "        for nota in notas:\n",
        "            st.write(nota)\n",
        "            if isinstance(nota, NotaImagen):\n",
        "                st.write(\"la clase NotaImagen no puede mostrar imagenes\")\n",
        "    else:\n",
        "        st.warning(\"No hay notas guardadas\")\n",
        "\n",
        "buscar_titulo = st.text_input(\"Buscar nota por titulo\")\n",
        "if st.button(\"Buscar\"):\n",
        "    resultado = bloc.buscar_nota(buscar_titulo)\n",
        "    st.write(resultado if resultado != \"Nota no encontrada\" else st.warning(resultado))\n",
        "\n",
        "eliminar_titulo = st.text_input(\"Eliminar nota por titulo\")\n",
        "if st.button(\"Eliminar\"):\n",
        "    bloc.eliminar_nota(eliminar_titulo)\n",
        "    st.success(\"Nota eliminada correctamente\")\n",
        "\n",
        "\n"
      ],
      "metadata": {
        "colab": {
          "base_uri": "https://localhost:8080/"
        },
        "collapsed": true,
        "id": "T0cWMx1qyEsh",
        "outputId": "71307167-d13d-4ef3-aab0-92e687f89a54"
      },
      "execution_count": null,
      "outputs": [
        {
          "output_type": "stream",
          "name": "stdout",
          "text": [
            "Overwriting app.py\n"
          ]
        }
      ]
    },
    {
      "cell_type": "code",
      "source": [
        "!npm install localtunell"
      ],
      "metadata": {
        "colab": {
          "base_uri": "https://localhost:8080/"
        },
        "collapsed": true,
        "id": "y0gnLDD3KLDX",
        "outputId": "32db6858-a362-4b11-f2fb-a7b17787036b"
      },
      "execution_count": null,
      "outputs": [
        {
          "output_type": "stream",
          "name": "stdout",
          "text": [
            "\u001b[1G\u001b[0K⠙\u001b[1G\u001b[0K⠹\u001b[1G\u001b[0K⠸\u001b[1G\u001b[0K⠼\u001b[1G\u001b[0K⠴\u001b[1G\u001b[0K⠦\u001b[1G\u001b[0K⠧\u001b[1G\u001b[0K⠇\u001b[1G\u001b[0K⠏\u001b[1G\u001b[0K⠋\u001b[1G\u001b[0K\u001b[1mnpm\u001b[22m \u001b[31merror\u001b[39m \u001b[94mcode\u001b[39m E404\n",
            "\u001b[1G\u001b[0K⠋\u001b[1G\u001b[0K\u001b[1mnpm\u001b[22m \u001b[31merror\u001b[39m \u001b[94m404\u001b[39m Not Found - GET https://registry.npmjs.org/localtunell - Not found\n",
            "\u001b[1G\u001b[0K⠋\u001b[1G\u001b[0K\u001b[1mnpm\u001b[22m \u001b[31merror\u001b[39m \u001b[94m404\u001b[39m\n",
            "\u001b[1G\u001b[0K⠋\u001b[1G\u001b[0K\u001b[1mnpm\u001b[22m \u001b[31merror\u001b[39m \u001b[94m404\u001b[39m  'localtunell@*' is not in this registry.\n",
            "\u001b[1G\u001b[0K⠋\u001b[1G\u001b[0K\u001b[1mnpm\u001b[22m \u001b[31merror\u001b[39m \u001b[94m404\u001b[39m\n",
            "\u001b[1G\u001b[0K⠋\u001b[1G\u001b[0K\u001b[1mnpm\u001b[22m \u001b[31merror\u001b[39m \u001b[94m404\u001b[39m Note that you can also install from a\n",
            "\u001b[1G\u001b[0K⠋\u001b[1G\u001b[0K\u001b[1mnpm\u001b[22m \u001b[31merror\u001b[39m \u001b[94m404\u001b[39m tarball, folder, http url, or git url.\n",
            "\u001b[1G\u001b[0K⠋\u001b[1G\u001b[0K\u001b[1mnpm\u001b[22m \u001b[31merror\u001b[39m A complete log of this run can be found in: /root/.npm/_logs/2025-03-31T21_41_30_406Z-debug-0.log\n",
            "\u001b[1G\u001b[0K⠋\u001b[1G\u001b[0K"
          ]
        }
      ]
    },
    {
      "cell_type": "code",
      "source": [
        "!streamlit run app.py &>/content/logs.txt & npx localtunnel --port 8501 & curl ipv4.icanhazip.com"
      ],
      "metadata": {
        "id": "PLBccHLMKSfK",
        "outputId": "a83329e0-f1ee-4853-e818-0c4ef163970a",
        "colab": {
          "base_uri": "https://localhost:8080/"
        }
      },
      "execution_count": null,
      "outputs": [
        {
          "output_type": "stream",
          "name": "stdout",
          "text": [
            "34.141.181.87\n",
            "\u001b[1G\u001b[0K⠙\u001b[1G\u001b[0Kyour url is: https://solid-humans-remain.loca.lt\n"
          ]
        }
      ]
    }
  ]
}