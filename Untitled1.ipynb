{
  "nbformat": 4,
  "nbformat_minor": 0,
  "metadata": {
    "colab": {
      "provenance": [],
      "authorship_tag": "ABX9TyN2KnLbWInS+yzev7iZXNTm",
      "include_colab_link": true
    },
    "kernelspec": {
      "name": "python3",
      "display_name": "Python 3"
    },
    "language_info": {
      "name": "python"
    }
  },
  "cells": [
    {
      "cell_type": "markdown",
      "metadata": {
        "id": "view-in-github",
        "colab_type": "text"
      },
      "source": [
        "<a href=\"https://colab.research.google.com/github/paoguilar/POO/blob/main/Untitled1.ipynb\" target=\"_parent\"><img src=\"https://colab.research.google.com/assets/colab-badge.svg\" alt=\"Open In Colab\"/></a>"
      ]
    },
    {
      "cell_type": "code",
      "execution_count": null,
      "metadata": {
        "colab": {
          "base_uri": "https://localhost:8080/"
        },
        "id": "I4XFQE92g39j",
        "outputId": "588e04b8-6847-440f-a9c2-45fba1775027"
      },
      "outputs": [
        {
          "output_type": "stream",
          "name": "stdout",
          "text": [
            "[]\n",
            "Escribe algo: uno\n",
            "['uno']\n",
            "Escribe algo: dos\n",
            "['uno', 'dos']\n",
            "Escribe algo: 3\n",
            "['uno', 'dos', '3']\n",
            "Escribe algo: cuatro\n",
            "['uno', 'dos', '3', 'cuatro']\n",
            "Escribe algo: 5\n",
            "['uno', 'dos', '3', 'cuatro', '5']\n"
          ]
        }
      ],
      "source": [
        "li=[]\n",
        "print(li)\n",
        "\n",
        "for _ in range(5):\n",
        "  q=input(\"Escribe algo: \")\n",
        "  li.append(q)\n",
        "  print(li)"
      ]
    },
    {
      "cell_type": "code",
      "source": [
        "li=[1,2,3.141516,0,567,345]\n",
        "li.sort(reverse= True) #el True ordena de mayor a menor, sin el True los ordena de menor a mayor\n",
        "print(li)"
      ],
      "metadata": {
        "colab": {
          "base_uri": "https://localhost:8080/"
        },
        "id": "uTtqroDDkL1h",
        "outputId": "ba470530-ca2b-44cf-8013-c0f05ac2b592"
      },
      "execution_count": null,
      "outputs": [
        {
          "output_type": "stream",
          "name": "stdout",
          "text": [
            "[567, 345, 3.141516, 2, 1, 0]\n"
          ]
        }
      ]
    },
    {
      "cell_type": "code",
      "source": [
        "import random as rd\n",
        "def funcion(w):\n",
        "  for i in range (w):\n",
        "    print (\"Todos saben programar en python no sé\")\n",
        "\n",
        "funcion(rd.randint(1,3))\n",
        "\n"
      ],
      "metadata": {
        "colab": {
          "base_uri": "https://localhost:8080/"
        },
        "id": "AUISADHgn_cl",
        "outputId": "d7d9bf57-0222-4b57-e465-d8ef0fb86d4f"
      },
      "execution_count": null,
      "outputs": [
        {
          "output_type": "stream",
          "name": "stdout",
          "text": [
            "Todos saben programar en python no sé\n",
            "Todos saben programar en python no sé\n"
          ]
        }
      ]
    },
    {
      "cell_type": "code",
      "source": [
        "def arroba(s):\n",
        "  for k in s:\n",
        "    if k ==\"@\":\n",
        "      return True\n",
        "      break\n",
        "  return False\n",
        "  #main\n",
        "  mail=\"artueo20@gmail.com\"\n",
        "  print(\"El correo contiene un arroba:\", arroba(mail))"
      ],
      "metadata": {
        "id": "4ZPivY9UtYsl"
      },
      "execution_count": null,
      "outputs": []
    },
    {
      "cell_type": "code",
      "source": [],
      "metadata": {
        "id": "VlZCVmAFuKXs"
      },
      "execution_count": null,
      "outputs": []
    }
  ]
}