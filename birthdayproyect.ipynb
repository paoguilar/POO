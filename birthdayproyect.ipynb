{
  "nbformat": 4,
  "nbformat_minor": 0,
  "metadata": {
    "colab": {
      "provenance": [],
      "authorship_tag": "ABX9TyMaH5TVXo0XgAK/SNSnNLdu",
      "include_colab_link": true
    },
    "kernelspec": {
      "name": "python3",
      "display_name": "Python 3"
    },
    "language_info": {
      "name": "python"
    }
  },
  "cells": [
    {
      "cell_type": "markdown",
      "metadata": {
        "id": "view-in-github",
        "colab_type": "text"
      },
      "source": [
        "<a href=\"https://colab.research.google.com/github/paoguilar/POO/blob/main/birthdayproyect.ipynb\" target=\"_parent\"><img src=\"https://colab.research.google.com/assets/colab-badge.svg\" alt=\"Open In Colab\"/></a>"
      ]
    },
    {
      "cell_type": "code",
      "execution_count": 1,
      "metadata": {
        "colab": {
          "base_uri": "https://localhost:8080/"
        },
        "id": "DIAzh4rHi52J",
        "outputId": "b568c544-2c07-47a8-e2c7-e68aae832a38"
      },
      "outputs": [
        {
          "output_type": "stream",
          "name": "stdout",
          "text": [
            "\u001b[2K     \u001b[90m━━━━━━━━━━━━━━━━━━━━━━━━━━━━━━━━━━━━━━━━\u001b[0m \u001b[32m44.3/44.3 kB\u001b[0m \u001b[31m1.4 MB/s\u001b[0m eta \u001b[36m0:00:00\u001b[0m\n",
            "\u001b[2K   \u001b[90m━━━━━━━━━━━━━━━━━━━━━━━━━━━━━━━━━━━━━━━━\u001b[0m \u001b[32m9.9/9.9 MB\u001b[0m \u001b[31m20.7 MB/s\u001b[0m eta \u001b[36m0:00:00\u001b[0m\n",
            "\u001b[2K   \u001b[90m━━━━━━━━━━━━━━━━━━━━━━━━━━━━━━━━━━━━━━━━\u001b[0m \u001b[32m6.9/6.9 MB\u001b[0m \u001b[31m36.1 MB/s\u001b[0m eta \u001b[36m0:00:00\u001b[0m\n",
            "\u001b[2K   \u001b[90m━━━━━━━━━━━━━━━━━━━━━━━━━━━━━━━━━━━━━━━━\u001b[0m \u001b[32m79.1/79.1 kB\u001b[0m \u001b[31m2.9 MB/s\u001b[0m eta \u001b[36m0:00:00\u001b[0m\n",
            "\u001b[?25h"
          ]
        }
      ],
      "source": [
        "!pip install -q streamlit"
      ]
    },
    {
      "cell_type": "code",
      "source": [
        "%%writefile app.py\n",
        "# gestor_cumpleanos_app.py\n",
        "\n",
        "import csv\n",
        "import smtplib\n",
        "import random\n",
        "import os\n",
        "from datetime import datetime\n",
        "from email.mime.text import MIMEText\n",
        "from email.mime.multipart import MIMEMultipart\n",
        "import streamlit as st\n",
        "import pandas as pd\n",
        "\n",
        "# ------------------- MODELOS -------------------\n",
        "\n",
        "class Contacto:\n",
        "    \"\"\"\n",
        "    Clase que representa un contacto con nombre, fecha de nacimiento, correo\n",
        "    y un mensaje personalizado opcional.\n",
        "    \"\"\"\n",
        "    def __init__(self, nombre, fecha_nacimiento, correo, mensaje_personalizado=\"\"):\n",
        "        self.nombre = nombre\n",
        "        self.fecha_nacimiento = datetime.strptime(fecha_nacimiento, \"%Y-%m-%d\")\n",
        "        self.correo = correo\n",
        "        self.mensaje_personalizado = mensaje_personalizado\n",
        "\n",
        "    def dias_para_cumple(self):\n",
        "        \"\"\"Calcula cuántos días faltan para el próximo cumpleaños.\"\"\"\n",
        "        hoy = datetime.now()\n",
        "        proximo = self.fecha_nacimiento.replace(year=hoy.year)\n",
        "        if proximo < hoy:\n",
        "            proximo = proximo.replace(year=hoy.year + 1)\n",
        "        return (proximo - hoy).days\n",
        "\n",
        "# ------------------- GESTOR -------------------\n",
        "\n",
        "class GestorCumpleanos:\n",
        "    \"\"\"\n",
        "    Clase principal que gestiona los contactos, mensajes y el envío de correos.\n",
        "    Se encarga de cargar y guardar datos en archivos CSV.\n",
        "    \"\"\"\n",
        "    def __init__(self, archivo_contactos=\"contactos.csv\", archivo_mensajes=\"mensajes.csv\"):\n",
        "        self.archivo_contactos = archivo_contactos\n",
        "        self.archivo_mensajes = archivo_mensajes\n",
        "        self.contactos = self.cargar_contactos()\n",
        "        self.mensajes = self.cargar_mensajes()\n",
        "\n",
        "    def cargar_contactos(self):\n",
        "        contactos = []\n",
        "        if os.path.exists(self.archivo_contactos):\n",
        "            with open(self.archivo_contactos, newline='', encoding='utf-8') as f:\n",
        "                reader = csv.DictReader(f)\n",
        "                for row in reader:\n",
        "                    contactos.append(Contacto(row[\"nombre\"], row[\"fecha_nacimiento\"], row[\"correo\"], row.get(\"mensaje_personalizado\", \"\")))\n",
        "        return contactos\n",
        "\n",
        "    def guardar_contacto(self, contacto):\n",
        "        archivo_nuevo = not os.path.exists(self.archivo_contactos)\n",
        "        with open(self.archivo_contactos, mode='a', newline='', encoding='utf-8') as f:\n",
        "            fieldnames = [\"nombre\", \"fecha_nacimiento\", \"correo\", \"mensaje_personalizado\"]\n",
        "            writer = csv.DictWriter(f, fieldnames=fieldnames)\n",
        "            if archivo_nuevo:\n",
        "                writer.writeheader()\n",
        "            writer.writerow({\n",
        "                \"nombre\": contacto.nombre,\n",
        "                \"fecha_nacimiento\": contacto.fecha_nacimiento.strftime(\"%Y-%m-%d\"),\n",
        "                \"correo\": contacto.correo,\n",
        "                \"mensaje_personalizado\": contacto.mensaje_personalizado\n",
        "            })\n",
        "        self.contactos.append(contacto)\n",
        "\n",
        "    def cargar_mensajes(self):\n",
        "        mensajes = []\n",
        "        if os.path.exists(self.archivo_mensajes):\n",
        "            with open(self.archivo_mensajes, newline='', encoding='utf-8') as f:\n",
        "                reader = csv.reader(f)\n",
        "                for row in reader:\n",
        "                    if row:\n",
        "                        mensajes.append(row[0])\n",
        "        return mensajes\n",
        "\n",
        "    def guardar_mensaje(self, mensaje):\n",
        "        with open(self.archivo_mensajes, mode='a', newline='', encoding='utf-8') as f:\n",
        "            writer = csv.writer(f)\n",
        "            writer.writerow([mensaje])\n",
        "        self.mensajes.append(mensaje)\n",
        "\n",
        "    def obtener_mensaje(self, contacto):\n",
        "        if contacto.mensaje_personalizado:\n",
        "            return contacto.mensaje_personalizado\n",
        "        if self.mensajes:\n",
        "            return random.choice(self.mensajes)\n",
        "        return \"🎉 ¡Feliz cumpleaños! 🎂\"\n",
        "\n",
        "    def enviar_correo(self, remitente, clave_app, contacto):\n",
        "        mensaje = self.obtener_mensaje(contacto)\n",
        "        msg = MIMEMultipart()\n",
        "        msg[\"From\"] = remitente\n",
        "        msg[\"To\"] = contacto.correo\n",
        "        msg[\"Subject\"] = f\"🎉 ¡Feliz cumpleaños, {contacto.nombre}! 🎈\"\n",
        "\n",
        "        msg.attach(MIMEText(mensaje, \"plain\"))\n",
        "\n",
        "        try:\n",
        "            with smtplib.SMTP(\"smtp.gmail.com\", 587) as servidor:\n",
        "                servidor.starttls()\n",
        "                servidor.login(remitente, clave_app)\n",
        "                servidor.send_message(msg)\n",
        "        except Exception as e:\n",
        "            print(f\"Error al enviar a {contacto.nombre}: {e}\")\n",
        "\n",
        "    def enviar_correos_hoy(self, remitente, clave_app):\n",
        "        hoy = datetime.now().strftime(\"%m-%d\")\n",
        "        for contacto in self.contactos:\n",
        "            if contacto.fecha_nacimiento.strftime(\"%m-%d\") == hoy:\n",
        "                self.enviar_correo(remitente, clave_app, contacto)\n",
        "\n",
        "# ------------------- INTERFAZ -------------------\n",
        "\n",
        "gestor = GestorCumpleanos()\n",
        "\n",
        "st.title(\"🎂 Gestor de Cumpleaños 🎁\")\n",
        "\n",
        "menu = [\"➕ Registrar\", \"📅 Cuenta regresiva\", \"✉️ Mensajes\", \"📬 Enviar correos\"]\n",
        "opcion = st.sidebar.selectbox(\"📌 Menú\", menu)\n",
        "\n",
        "if opcion == \"➕ Registrar\":\n",
        "    st.header(\"Registrar nuevo cumpleaños 🎈\")\n",
        "    nombre = st.text_input(\"👤 Nombre\")\n",
        "    fecha = st.date_input(\"📆 Fecha de nacimiento\", min_value=datetime(1900, 1, 1))\n",
        "    correo = st.text_input(\"📧 Correo electrónico\")\n",
        "    mensaje = st.text_area(\"📝 Mensaje personalizado (opcional)\")\n",
        "    if st.button(\"Guardar 🎀\"):\n",
        "        contacto = Contacto(nombre, fecha.strftime(\"%Y-%m-%d\"), correo, mensaje)\n",
        "        gestor.guardar_contacto(contacto)\n",
        "        st.success(\"✅ Contacto guardado\")\n",
        "\n",
        "elif opcion == \"📅 Cuenta regresiva\":\n",
        "    st.header(\"🎯 Próximos cumpleaños\")\n",
        "    datos = [{\n",
        "        \"Nombre\": c.nombre,\n",
        "        \"Correo\": c.correo,\n",
        "        \"Fecha\": c.fecha_nacimiento.strftime(\"%Y-%m-%d\"),\n",
        "        \"Días restantes\": c.dias_para_cumple()\n",
        "    } for c in gestor.contactos]\n",
        "    st.dataframe(pd.DataFrame(datos).sort_values(\"Días restantes\"))\n",
        "\n",
        "elif opcion == \"✉️ Mensajes\":\n",
        "    st.header(\"✍️ Mensajes de felicitación\")\n",
        "    nuevo = st.text_area(\"➕ Nuevo mensaje\")\n",
        "    if st.button(\"Guardar mensaje 💾\"):\n",
        "        gestor.guardar_mensaje(nuevo)\n",
        "        st.success(\"✅ Mensaje guardado\")\n",
        "    if gestor.mensajes:\n",
        "        st.subheader(\"📋 Mensajes existentes\")\n",
        "        for i, m in enumerate(gestor.mensajes, 1):\n",
        "            st.markdown(f\"**{i}.** {m}\")\n",
        "\n",
        "elif opcion == \"📬 Enviar correos\":\n",
        "    st.header(\"🚀 Enviar felicitaciones\")\n",
        "    remitente = st.text_input(\"📨 Correo remitente (Gmail)\")\n",
        "    clave = st.text_input(\"🔑 Clave de aplicación\", type=\"password\")\n",
        "    if st.button(\"Enviar correos hoy 🎉\"):\n",
        "        gestor.enviar_correos_hoy(remitente, clave)\n",
        "        st.success(\"✅ Correos enviados si había cumpleaños hoy\")\n"
      ],
      "metadata": {
        "colab": {
          "base_uri": "https://localhost:8080/"
        },
        "id": "-SFI3H6ni8VR",
        "outputId": "d0f04cfd-1b6f-4114-dc26-c53d4df9610e"
      },
      "execution_count": 7,
      "outputs": [
        {
          "output_type": "stream",
          "name": "stdout",
          "text": [
            "Overwriting app.py\n"
          ]
        }
      ]
    },
    {
      "cell_type": "code",
      "source": [
        "!npm install -g localtunnel"
      ],
      "metadata": {
        "colab": {
          "base_uri": "https://localhost:8080/"
        },
        "id": "ZxOOq75ljErL",
        "outputId": "423dff51-b1e3-427e-a651-b3b59efb6d0e"
      },
      "execution_count": 3,
      "outputs": [
        {
          "output_type": "stream",
          "name": "stdout",
          "text": [
            "\u001b[1G\u001b[0K⠙\u001b[1G\u001b[0K⠹\u001b[1G\u001b[0K⠸\u001b[1G\u001b[0K⠼\u001b[1G\u001b[0K⠴\u001b[1G\u001b[0K⠦\u001b[1G\u001b[0K⠧\u001b[1G\u001b[0K⠇\u001b[1G\u001b[0K⠏\u001b[1G\u001b[0K⠋\u001b[1G\u001b[0K⠙\u001b[1G\u001b[0K⠹\u001b[1G\u001b[0K⠸\u001b[1G\u001b[0K⠼\u001b[1G\u001b[0K⠴\u001b[1G\u001b[0K⠦\u001b[1G\u001b[0K⠧\u001b[1G\u001b[0K⠇\u001b[1G\u001b[0K⠏\u001b[1G\u001b[0K⠋\u001b[1G\u001b[0K⠙\u001b[1G\u001b[0K\n",
            "added 22 packages in 2s\n",
            "\u001b[1G\u001b[0K⠙\u001b[1G\u001b[0K\n",
            "\u001b[1G\u001b[0K⠙\u001b[1G\u001b[0K3 packages are looking for funding\n",
            "\u001b[1G\u001b[0K⠙\u001b[1G\u001b[0K  run `npm fund` for details\n",
            "\u001b[1G\u001b[0K⠙\u001b[1G\u001b[0K"
          ]
        }
      ]
    },
    {
      "cell_type": "code",
      "source": [
        "!streamlit run app.py &>/content/logs.txt & npx localtunnel --port 8501 & curl ipv4.icanhazip.com"
      ],
      "metadata": {
        "colab": {
          "base_uri": "https://localhost:8080/"
        },
        "id": "WQTmwjQajJJc",
        "outputId": "ac38e7e3-c2e9-429e-e80b-3a98a968b2d9"
      },
      "execution_count": null,
      "outputs": [
        {
          "output_type": "stream",
          "name": "stdout",
          "text": [
            "34.69.61.88\n",
            "\u001b[1G\u001b[0K⠙\u001b[1G\u001b[0K⠹\u001b[1G\u001b[0K⠸\u001b[1G\u001b[0K⠼\u001b[1G\u001b[0K⠴\u001b[1G\u001b[0K⠦\u001b[1G\u001b[0Kyour url is: https://shaggy-taxes-mix.loca.lt\n"
          ]
        }
      ]
    }
  ]
}