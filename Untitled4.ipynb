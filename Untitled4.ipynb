{
  "nbformat": 4,
  "nbformat_minor": 0,
  "metadata": {
    "colab": {
      "provenance": [],
      "authorship_tag": "ABX9TyOH0y4oRVrU7n7lrxC9nP5v",
      "include_colab_link": true
    },
    "kernelspec": {
      "name": "python3",
      "display_name": "Python 3"
    },
    "language_info": {
      "name": "python"
    }
  },
  "cells": [
    {
      "cell_type": "markdown",
      "metadata": {
        "id": "view-in-github",
        "colab_type": "text"
      },
      "source": [
        "<a href=\"https://colab.research.google.com/github/paoguilar/POO/blob/main/Untitled4.ipynb\" target=\"_parent\"><img src=\"https://colab.research.google.com/assets/colab-badge.svg\" alt=\"Open In Colab\"/></a>"
      ]
    },
    {
      "cell_type": "code",
      "execution_count": null,
      "metadata": {
        "id": "i1LtDvoOtFRO",
        "outputId": "2065c6c9-799f-4555-8576-f0bf568754f6",
        "colab": {
          "base_uri": "https://localhost:8080/"
        }
      },
      "outputs": [
        {
          "output_type": "stream",
          "name": "stdout",
          "text": [
            "Toyota Corolla, Año: 2020\n",
            "Última verificación: 2025-03-01 03:25:35\n"
          ]
        }
      ],
      "source": [
        "from datetime import datetime\n",
        "\n",
        "class Auto:\n",
        "    def __init__(self, marca, modelo, año):\n",
        "        self.marca = marca\n",
        "        self.modelo = modelo\n",
        "        self.año = año\n",
        "\n",
        "    def get_info(self):\n",
        "        return f\"{self.marca} {self.modelo}, Año: {self.año}\"\n",
        "\n",
        "    def ultima_verificacion(self):\n",
        "        print(\"Última verificación:\", datetime.now().strftime(\"%Y-%m-%d %H:%M:%S\"))\n",
        "\n",
        "# Crear una instancia de Auto\n",
        "my_car = Auto(\"Toyota\", \"Corolla\", 2020)\n",
        "\n",
        "# Probar los métodos\n",
        "print(my_car.get_info())  # Toyota Corolla, Año: 2020\n",
        "my_car.ultima_verificacion()  # Muestra la fecha y hora actual\n"
      ]
    }
  ]
}